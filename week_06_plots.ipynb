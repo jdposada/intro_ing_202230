{
  "nbformat": 4,
  "nbformat_minor": 0,
  "metadata": {
    "colab": {
      "name": "week_06_plots.ipynb",
      "provenance": [],
      "collapsed_sections": [],
      "authorship_tag": "ABX9TyNAX9wGVfNgwXMsc4vbNvuA",
      "include_colab_link": true
    },
    "kernelspec": {
      "name": "python3",
      "display_name": "Python 3"
    },
    "language_info": {
      "name": "python"
    }
  },
  "cells": [
    {
      "cell_type": "markdown",
      "metadata": {
        "id": "view-in-github",
        "colab_type": "text"
      },
      "source": [
        "<a href=\"https://colab.research.google.com/github/jdposada/intro_ing_202230/blob/main/week_06_plots.ipynb\" target=\"_parent\"><img src=\"https://colab.research.google.com/assets/colab-badge.svg\" alt=\"Open In Colab\"/></a>"
      ]
    },
    {
      "cell_type": "markdown",
      "source": [
        "# Gráficas en Python\n",
        "\n"
      ],
      "metadata": {
        "id": "IjxKl2HcTNXX"
      }
    },
    {
      "cell_type": "markdown",
      "source": [
        "Datos de Prubas del Icfes"
      ],
      "metadata": {
        "id": "5zD5xdMwZLlL"
      }
    },
    {
      "cell_type": "code",
      "source": [
        "import pandas as pd\n",
        "enlace = \"https://www.datos.gov.co/api/views/rnvb-vnyh/rows.csv?accessType=DOWNLOAD\""
      ],
      "metadata": {
        "id": "NdFg0j1wW54f"
      },
      "execution_count": 3,
      "outputs": []
    },
    {
      "cell_type": "code",
      "source": [
        "icfes = pd.read_csv(enlace)"
      ],
      "metadata": {
        "id": "WEnGZeryXlNg"
      },
      "execution_count": 4,
      "outputs": []
    },
    {
      "cell_type": "code",
      "source": [
        "icfes.shape"
      ],
      "metadata": {
        "colab": {
          "base_uri": "https://localhost:8080/"
        },
        "id": "hmBBYf4TXtww",
        "outputId": "e86312c4-96e5-41aa-9f08-b2c3d4ee8f98"
      },
      "execution_count": null,
      "outputs": [
        {
          "output_type": "execute_result",
          "data": {
            "text/plain": [
              "(504872, 81)"
            ]
          },
          "metadata": {},
          "execution_count": 35
        }
      ]
    },
    {
      "cell_type": "code",
      "source": [
        "icfes.head()"
      ],
      "metadata": {
        "colab": {
          "base_uri": "https://localhost:8080/",
          "height": 334
        },
        "id": "Q-Lwi2x3YLKg",
        "outputId": "e7b9e03d-eaf7-4588-ac1e-f0a3638306d7"
      },
      "execution_count": 6,
      "outputs": [
        {
          "output_type": "execute_result",
          "data": {
            "text/plain": [
              "  ESTU_TIPODOCUMENTO ESTU_NACIONALIDAD ESTU_GENERO    ESTU_FECHANACIMIENTO  \\\n",
              "0                 TI             SUIZA           F  03/03/2003 12:00:00 AM   \n",
              "1                PEP         VENEZUELA           M  05/10/2002 12:00:00 AM   \n",
              "2                 TI         VENEZUELA           F  12/14/2003 12:00:00 AM   \n",
              "3                 CE         VENEZUELA           M  04/12/2003 12:00:00 AM   \n",
              "4                 TI          COLOMBIA           F  03/03/2004 12:00:00 AM   \n",
              "\n",
              "   PERIODO  ESTU_CONSECUTIVO ESTU_ESTUDIANTE ESTU_PAIS_RESIDE ESTU_TIENEETNIA  \\\n",
              "0    20204  SB11202040211436      ESTUDIANTE            SUIZA              No   \n",
              "1    20204  SB11202040433216      ESTUDIANTE        VENEZUELA              No   \n",
              "2    20204  SB11202040244180      ESTUDIANTE        VENEZUELA              No   \n",
              "3    20204  SB11202040210971      ESTUDIANTE        VENEZUELA              No   \n",
              "4    20204  SB11202040235382      ESTUDIANTE         COLOMBIA              No   \n",
              "\n",
              "  ESTU_DEPTO_RESIDE  ...  PUNT_INGLES PERCENTIL_INGLES  DESEMP_INGLES  \\\n",
              "0      CUNDINAMARCA  ...         55.0               81             A1   \n",
              "1      CUNDINAMARCA  ...         33.0                6             A-   \n",
              "2      CUNDINAMARCA  ...         59.0               87             A2   \n",
              "3      CUNDINAMARCA  ...         47.0               58             A-   \n",
              "4      CUNDINAMARCA  ...         43.0               40             A-   \n",
              "\n",
              "  PUNT_GLOBAL PERCENTIL_GLOBAL ESTU_INSE_INDIVIDUAL ESTU_NSE_INDIVIDUAL  \\\n",
              "0         244               49            54.882365                 3.0   \n",
              "1         238               44            49.252311                 2.0   \n",
              "2         325               94            40.733672                 1.0   \n",
              "3         238               45            48.217953                 2.0   \n",
              "4         202               19            60.912192                 3.0   \n",
              "\n",
              "  ESTU_NSE_ESTABLECIMIENTO ESTU_ESTADOINVESTIGACION         ESTU_GENERACION-E  \n",
              "0                      3.0                 PUBLICAR                        NO  \n",
              "1                      2.0                 PUBLICAR                        NO  \n",
              "2                      3.0                 PUBLICAR  GENERACION E - GRATUIDAD  \n",
              "3                      3.0                 PUBLICAR                        NO  \n",
              "4                      3.0                 PUBLICAR                        NO  \n",
              "\n",
              "[5 rows x 81 columns]"
            ],
            "text/html": [
              "\n",
              "  <div id=\"df-f759374f-aca8-40e4-83dd-af45524047d2\">\n",
              "    <div class=\"colab-df-container\">\n",
              "      <div>\n",
              "<style scoped>\n",
              "    .dataframe tbody tr th:only-of-type {\n",
              "        vertical-align: middle;\n",
              "    }\n",
              "\n",
              "    .dataframe tbody tr th {\n",
              "        vertical-align: top;\n",
              "    }\n",
              "\n",
              "    .dataframe thead th {\n",
              "        text-align: right;\n",
              "    }\n",
              "</style>\n",
              "<table border=\"1\" class=\"dataframe\">\n",
              "  <thead>\n",
              "    <tr style=\"text-align: right;\">\n",
              "      <th></th>\n",
              "      <th>ESTU_TIPODOCUMENTO</th>\n",
              "      <th>ESTU_NACIONALIDAD</th>\n",
              "      <th>ESTU_GENERO</th>\n",
              "      <th>ESTU_FECHANACIMIENTO</th>\n",
              "      <th>PERIODO</th>\n",
              "      <th>ESTU_CONSECUTIVO</th>\n",
              "      <th>ESTU_ESTUDIANTE</th>\n",
              "      <th>ESTU_PAIS_RESIDE</th>\n",
              "      <th>ESTU_TIENEETNIA</th>\n",
              "      <th>ESTU_DEPTO_RESIDE</th>\n",
              "      <th>...</th>\n",
              "      <th>PUNT_INGLES</th>\n",
              "      <th>PERCENTIL_INGLES</th>\n",
              "      <th>DESEMP_INGLES</th>\n",
              "      <th>PUNT_GLOBAL</th>\n",
              "      <th>PERCENTIL_GLOBAL</th>\n",
              "      <th>ESTU_INSE_INDIVIDUAL</th>\n",
              "      <th>ESTU_NSE_INDIVIDUAL</th>\n",
              "      <th>ESTU_NSE_ESTABLECIMIENTO</th>\n",
              "      <th>ESTU_ESTADOINVESTIGACION</th>\n",
              "      <th>ESTU_GENERACION-E</th>\n",
              "    </tr>\n",
              "  </thead>\n",
              "  <tbody>\n",
              "    <tr>\n",
              "      <th>0</th>\n",
              "      <td>TI</td>\n",
              "      <td>SUIZA</td>\n",
              "      <td>F</td>\n",
              "      <td>03/03/2003 12:00:00 AM</td>\n",
              "      <td>20204</td>\n",
              "      <td>SB11202040211436</td>\n",
              "      <td>ESTUDIANTE</td>\n",
              "      <td>SUIZA</td>\n",
              "      <td>No</td>\n",
              "      <td>CUNDINAMARCA</td>\n",
              "      <td>...</td>\n",
              "      <td>55.0</td>\n",
              "      <td>81</td>\n",
              "      <td>A1</td>\n",
              "      <td>244</td>\n",
              "      <td>49</td>\n",
              "      <td>54.882365</td>\n",
              "      <td>3.0</td>\n",
              "      <td>3.0</td>\n",
              "      <td>PUBLICAR</td>\n",
              "      <td>NO</td>\n",
              "    </tr>\n",
              "    <tr>\n",
              "      <th>1</th>\n",
              "      <td>PEP</td>\n",
              "      <td>VENEZUELA</td>\n",
              "      <td>M</td>\n",
              "      <td>05/10/2002 12:00:00 AM</td>\n",
              "      <td>20204</td>\n",
              "      <td>SB11202040433216</td>\n",
              "      <td>ESTUDIANTE</td>\n",
              "      <td>VENEZUELA</td>\n",
              "      <td>No</td>\n",
              "      <td>CUNDINAMARCA</td>\n",
              "      <td>...</td>\n",
              "      <td>33.0</td>\n",
              "      <td>6</td>\n",
              "      <td>A-</td>\n",
              "      <td>238</td>\n",
              "      <td>44</td>\n",
              "      <td>49.252311</td>\n",
              "      <td>2.0</td>\n",
              "      <td>2.0</td>\n",
              "      <td>PUBLICAR</td>\n",
              "      <td>NO</td>\n",
              "    </tr>\n",
              "    <tr>\n",
              "      <th>2</th>\n",
              "      <td>TI</td>\n",
              "      <td>VENEZUELA</td>\n",
              "      <td>F</td>\n",
              "      <td>12/14/2003 12:00:00 AM</td>\n",
              "      <td>20204</td>\n",
              "      <td>SB11202040244180</td>\n",
              "      <td>ESTUDIANTE</td>\n",
              "      <td>VENEZUELA</td>\n",
              "      <td>No</td>\n",
              "      <td>CUNDINAMARCA</td>\n",
              "      <td>...</td>\n",
              "      <td>59.0</td>\n",
              "      <td>87</td>\n",
              "      <td>A2</td>\n",
              "      <td>325</td>\n",
              "      <td>94</td>\n",
              "      <td>40.733672</td>\n",
              "      <td>1.0</td>\n",
              "      <td>3.0</td>\n",
              "      <td>PUBLICAR</td>\n",
              "      <td>GENERACION E - GRATUIDAD</td>\n",
              "    </tr>\n",
              "    <tr>\n",
              "      <th>3</th>\n",
              "      <td>CE</td>\n",
              "      <td>VENEZUELA</td>\n",
              "      <td>M</td>\n",
              "      <td>04/12/2003 12:00:00 AM</td>\n",
              "      <td>20204</td>\n",
              "      <td>SB11202040210971</td>\n",
              "      <td>ESTUDIANTE</td>\n",
              "      <td>VENEZUELA</td>\n",
              "      <td>No</td>\n",
              "      <td>CUNDINAMARCA</td>\n",
              "      <td>...</td>\n",
              "      <td>47.0</td>\n",
              "      <td>58</td>\n",
              "      <td>A-</td>\n",
              "      <td>238</td>\n",
              "      <td>45</td>\n",
              "      <td>48.217953</td>\n",
              "      <td>2.0</td>\n",
              "      <td>3.0</td>\n",
              "      <td>PUBLICAR</td>\n",
              "      <td>NO</td>\n",
              "    </tr>\n",
              "    <tr>\n",
              "      <th>4</th>\n",
              "      <td>TI</td>\n",
              "      <td>COLOMBIA</td>\n",
              "      <td>F</td>\n",
              "      <td>03/03/2004 12:00:00 AM</td>\n",
              "      <td>20204</td>\n",
              "      <td>SB11202040235382</td>\n",
              "      <td>ESTUDIANTE</td>\n",
              "      <td>COLOMBIA</td>\n",
              "      <td>No</td>\n",
              "      <td>CUNDINAMARCA</td>\n",
              "      <td>...</td>\n",
              "      <td>43.0</td>\n",
              "      <td>40</td>\n",
              "      <td>A-</td>\n",
              "      <td>202</td>\n",
              "      <td>19</td>\n",
              "      <td>60.912192</td>\n",
              "      <td>3.0</td>\n",
              "      <td>3.0</td>\n",
              "      <td>PUBLICAR</td>\n",
              "      <td>NO</td>\n",
              "    </tr>\n",
              "  </tbody>\n",
              "</table>\n",
              "<p>5 rows × 81 columns</p>\n",
              "</div>\n",
              "      <button class=\"colab-df-convert\" onclick=\"convertToInteractive('df-f759374f-aca8-40e4-83dd-af45524047d2')\"\n",
              "              title=\"Convert this dataframe to an interactive table.\"\n",
              "              style=\"display:none;\">\n",
              "        \n",
              "  <svg xmlns=\"http://www.w3.org/2000/svg\" height=\"24px\"viewBox=\"0 0 24 24\"\n",
              "       width=\"24px\">\n",
              "    <path d=\"M0 0h24v24H0V0z\" fill=\"none\"/>\n",
              "    <path d=\"M18.56 5.44l.94 2.06.94-2.06 2.06-.94-2.06-.94-.94-2.06-.94 2.06-2.06.94zm-11 1L8.5 8.5l.94-2.06 2.06-.94-2.06-.94L8.5 2.5l-.94 2.06-2.06.94zm10 10l.94 2.06.94-2.06 2.06-.94-2.06-.94-.94-2.06-.94 2.06-2.06.94z\"/><path d=\"M17.41 7.96l-1.37-1.37c-.4-.4-.92-.59-1.43-.59-.52 0-1.04.2-1.43.59L10.3 9.45l-7.72 7.72c-.78.78-.78 2.05 0 2.83L4 21.41c.39.39.9.59 1.41.59.51 0 1.02-.2 1.41-.59l7.78-7.78 2.81-2.81c.8-.78.8-2.07 0-2.86zM5.41 20L4 18.59l7.72-7.72 1.47 1.35L5.41 20z\"/>\n",
              "  </svg>\n",
              "      </button>\n",
              "      \n",
              "  <style>\n",
              "    .colab-df-container {\n",
              "      display:flex;\n",
              "      flex-wrap:wrap;\n",
              "      gap: 12px;\n",
              "    }\n",
              "\n",
              "    .colab-df-convert {\n",
              "      background-color: #E8F0FE;\n",
              "      border: none;\n",
              "      border-radius: 50%;\n",
              "      cursor: pointer;\n",
              "      display: none;\n",
              "      fill: #1967D2;\n",
              "      height: 32px;\n",
              "      padding: 0 0 0 0;\n",
              "      width: 32px;\n",
              "    }\n",
              "\n",
              "    .colab-df-convert:hover {\n",
              "      background-color: #E2EBFA;\n",
              "      box-shadow: 0px 1px 2px rgba(60, 64, 67, 0.3), 0px 1px 3px 1px rgba(60, 64, 67, 0.15);\n",
              "      fill: #174EA6;\n",
              "    }\n",
              "\n",
              "    [theme=dark] .colab-df-convert {\n",
              "      background-color: #3B4455;\n",
              "      fill: #D2E3FC;\n",
              "    }\n",
              "\n",
              "    [theme=dark] .colab-df-convert:hover {\n",
              "      background-color: #434B5C;\n",
              "      box-shadow: 0px 1px 3px 1px rgba(0, 0, 0, 0.15);\n",
              "      filter: drop-shadow(0px 1px 2px rgba(0, 0, 0, 0.3));\n",
              "      fill: #FFFFFF;\n",
              "    }\n",
              "  </style>\n",
              "\n",
              "      <script>\n",
              "        const buttonEl =\n",
              "          document.querySelector('#df-f759374f-aca8-40e4-83dd-af45524047d2 button.colab-df-convert');\n",
              "        buttonEl.style.display =\n",
              "          google.colab.kernel.accessAllowed ? 'block' : 'none';\n",
              "\n",
              "        async function convertToInteractive(key) {\n",
              "          const element = document.querySelector('#df-f759374f-aca8-40e4-83dd-af45524047d2');\n",
              "          const dataTable =\n",
              "            await google.colab.kernel.invokeFunction('convertToInteractive',\n",
              "                                                     [key], {});\n",
              "          if (!dataTable) return;\n",
              "\n",
              "          const docLinkHtml = 'Like what you see? Visit the ' +\n",
              "            '<a target=\"_blank\" href=https://colab.research.google.com/notebooks/data_table.ipynb>data table notebook</a>'\n",
              "            + ' to learn more about interactive tables.';\n",
              "          element.innerHTML = '';\n",
              "          dataTable['output_type'] = 'display_data';\n",
              "          await google.colab.output.renderOutput(dataTable, element);\n",
              "          const docLink = document.createElement('div');\n",
              "          docLink.innerHTML = docLinkHtml;\n",
              "          element.appendChild(docLink);\n",
              "        }\n",
              "      </script>\n",
              "    </div>\n",
              "  </div>\n",
              "  "
            ]
          },
          "metadata": {},
          "execution_count": 6
        }
      ]
    },
    {
      "cell_type": "code",
      "source": [
        "icfes.loc[:, 'ESTU_DEPTO_RESIDE'].hist()"
      ],
      "metadata": {
        "id": "ZAXDJx03dtx_",
        "colab": {
          "base_uri": "https://localhost:8080/",
          "height": 282
        },
        "outputId": "e699df3a-c5ff-4ac2-fdf7-fe8c74942c8b"
      },
      "execution_count": 28,
      "outputs": [
        {
          "output_type": "execute_result",
          "data": {
            "text/plain": [
              "<matplotlib.axes._subplots.AxesSubplot at 0x7f540124fad0>"
            ]
          },
          "metadata": {},
          "execution_count": 28
        },
        {
          "output_type": "display_data",
          "data": {
            "text/plain": [
              "<Figure size 432x288 with 1 Axes>"
            ],
            "image/png": "[encoded data removed]"
          },
          "metadata": {
            "needs_background": "light"
          }
        }
      ]
    },
    {
      "cell_type": "code",
      "source": [
        "cond = (icfes['ESTU_DEPTO_RESIDE'].isin(['MAGDALENA', 'ATLANTICO', 'CUNDINAMARCA'])) "
      ],
      "metadata": {
        "id": "56C7ryIxbEVn"
      },
      "execution_count": 25,
      "outputs": []
    },
    {
      "cell_type": "code",
      "source": [
        "icfes.loc[cond, 'ESTU_DEPTO_RESIDE'].hist()"
      ],
      "metadata": {
        "colab": {
          "base_uri": "https://localhost:8080/",
          "height": 284
        },
        "id": "US1hXWMzbYyv",
        "outputId": "14ceb90e-aa2c-4f37-9134-bcc911c6b5e6"
      },
      "execution_count": 27,
      "outputs": [
        {
          "output_type": "execute_result",
          "data": {
            "text/plain": [
              "<matplotlib.axes._subplots.AxesSubplot at 0x7f5401673c90>"
            ]
          },
          "metadata": {},
          "execution_count": 27
        },
        {
          "output_type": "display_data",
          "data": {
            "text/plain": [
              "<Figure size 432x288 with 1 Axes>"
            ],
            "image/png": "[encoded data removed]"
          },
          "metadata": {
            "needs_background": "light"
          }
        }
      ]
    },
    {
      "cell_type": "code",
      "source": [
        "icfes.loc[cond, 'PUNT_INGLES'].hist()"
      ],
      "metadata": {
        "colab": {
          "base_uri": "https://localhost:8080/",
          "height": 282
        },
        "id": "Ngd6XhYwcAyV",
        "outputId": "087e5c35-3f1e-4a78-e927-b767ca71a40a"
      },
      "execution_count": 18,
      "outputs": [
        {
          "output_type": "execute_result",
          "data": {
            "text/plain": [
              "<matplotlib.axes._subplots.AxesSubplot at 0x7f5401478210>"
            ]
          },
          "metadata": {},
          "execution_count": 18
        },
        {
          "output_type": "display_data",
          "data": {
            "text/plain": [
              "<Figure size 432x288 with 1 Axes>"
            ],
            "image/png": "[encoded data removed]"
          },
          "metadata": {
            "needs_background": "light"
          }
        }
      ]
    },
    {
      "cell_type": "code",
      "source": [
        "icfes.plot.scatter(x=\"PUNT_INGLES\", y=\"PUNT_GLOBAL\")"
      ],
      "metadata": {
        "colab": {
          "base_uri": "https://localhost:8080/",
          "height": 297
        },
        "id": "kyx4BcSPcfsL",
        "outputId": "ca1c6d27-37fd-40b2-b0db-3daa0cf978e2"
      },
      "execution_count": 31,
      "outputs": [
        {
          "output_type": "execute_result",
          "data": {
            "text/plain": [
              "<matplotlib.axes._subplots.AxesSubplot at 0x7f54010c7490>"
            ]
          },
          "metadata": {},
          "execution_count": 31
        },
        {
          "output_type": "display_data",
          "data": {
            "text/plain": [
              "<Figure size 432x288 with 1 Axes>"
            ],
            "image/png": "[encoded data removed]"
          },
          "metadata": {
            "needs_background": "light"
          }
        }
      ]
    },
    {
      "cell_type": "code",
      "source": [
        "cond = (icfes['PUNT_INGLES'] <= 20)\n",
        "icfes.loc[cond, 'ESTU_DEPTO_RESIDE'].unique()"
      ],
      "metadata": {
        "colab": {
          "base_uri": "https://localhost:8080/"
        },
        "id": "ty6dD83zgmFZ",
        "outputId": "412e910f-25b7-425f-d48f-83bd8016c7b1"
      },
      "execution_count": 33,
      "outputs": [
        {
          "output_type": "execute_result",
          "data": {
            "text/plain": [
              "array(['ARAUCA', 'CUNDINAMARCA', 'SANTANDER', 'MAGDALENA', 'BOGOTÁ',\n",
              "       'META', 'CAUCA', 'ATLANTICO', 'VALLE', 'NORTE SANTANDER',\n",
              "       'ANTIOQUIA', 'VICHADA', 'CESAR', 'RISARALDA', 'CORDOBA', 'BOLIVAR',\n",
              "       'SUCRE', 'QUINDIO', 'GUAVIARE', 'NARIÑO', 'AMAZONAS', 'CALDAS',\n",
              "       'CAQUETA', 'HUILA', 'CASANARE', 'LA GUAJIRA', 'SAN ANDRES',\n",
              "       'BOYACA', 'PUTUMAYO', 'CHOCO', 'TOLIMA', 'GUAINIA'], dtype=object)"
            ]
          },
          "metadata": {},
          "execution_count": 33
        }
      ]
    },
    {
      "cell_type": "code",
      "source": [
        "icfes.loc[cond, 'ESTU_DEPTO_RESIDE']"
      ],
      "metadata": {
        "id": "pBv8OpBVhD91"
      },
      "execution_count": null,
      "outputs": []
    },
    {
      "cell_type": "code",
      "source": [],
      "metadata": {
        "id": "KJu-Ynt-g9xJ"
      },
      "execution_count": null,
      "outputs": []
    }
  ]
}