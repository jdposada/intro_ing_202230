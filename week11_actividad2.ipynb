{
  "nbformat": 4,
  "nbformat_minor": 0,
  "metadata": {
    "colab": {
      "provenance": [],
      "collapsed_sections": [],
      "include_colab_link": true
    },
    "kernelspec": {
      "display_name": "Python 3",
      "language": "python",
      "name": "python3"
    },
    "language_info": {
      "codemirror_mode": {
        "name": "ipython",
        "version": 3
      },
      "file_extension": ".py",
      "mimetype": "text/x-python",
      "name": "python",
      "nbconvert_exporter": "python",
      "pygments_lexer": "ipython3",
      "version": "3.7.6"
    }
  },
  "cells": [
    {
      "cell_type": "markdown",
      "metadata": {
        "id": "view-in-github",
        "colab_type": "text"
      },
      "source": [
        "<a href=\"https://colab.research.google.com/github/jdposada/intro_ing_202230/blob/main/week11_actividad2.ipynb\" target=\"_parent\"><img src=\"https://colab.research.google.com/assets/colab-badge.svg\" alt=\"Open In Colab\"/></a>"
      ]
    },
    {
      "cell_type": "markdown",
      "source": [
        "# **Introducción a la Ingeniería de Sistemas**"
      ],
      "metadata": {
        "id": "9fRIwjFq5PZd"
      }
    },
    {
      "cell_type": "markdown",
      "metadata": {
        "id": "DhIuksNiAtmU"
      },
      "source": [
        "![unnamed.png](https://upload.wikimedia.org/wikipedia/commons/thumb/f/ff/Logo_uninorte_colombia.jpg/360px-Logo_uninorte_colombia.jpg)"
      ]
    },
    {
      "cell_type": "markdown",
      "metadata": {
        "id": "q1dCRnET7JUK"
      },
      "source": [
        "Profesor: \n",
        "- **Jose D. Posada, Ph.D.**"
      ]
    },
    {
      "cell_type": "markdown",
      "metadata": {
        "id": "JNRYWNXx6sye"
      },
      "source": [
        "*Por favor diligencie su informacion aqui*\n",
        "\n",
        "*   Nombre del Estudiante:\n",
        "*   Código del Estudiante:"
      ]
    },
    {
      "cell_type": "markdown",
      "source": [
        "# Actividad 2"
      ],
      "metadata": {
        "id": "LAOvaGB-5YvJ"
      }
    },
    {
      "cell_type": "markdown",
      "metadata": {
        "id": "de09gPd_4TYz"
      },
      "source": [
        "### Proposito:\n",
        "\n",
        "Esta Actividad se enfoca en evaluar sus conocimientos acerca del propósito de la Ingeniería de Sistemas ademas de conocimientos técnicos en Google Colab, listas y tuplas en Python y Dataframes. Esta actividad les ayudara a afianzar sus conocimientos en estas areas\n",
        "\n",
        "### Tareas\n",
        "\n",
        "Lo primero que debe hacer es asegurarse de hacer una copia de este cuaderno de Jupyter en el que usted pueda editar. para hacer la copia vaya a `File->Save a Copy in Drive`\n",
        "\n",
        "En esta actividad usted debera responder cada una de las preguntas en la celda inmediatamente despues de la palabra **RESPUESTA**. En esta actividad hay dos tipos de preguntas:\n",
        "\n",
        "- *Pregunta Teórica*: En estas preguntas su objetivo es expresar su entendimiento respecto a lo que se pregunta. Recuerde leer muy bien para saber cual es el limite de palabras que puede usar para responder la pregunta.\n",
        "- *Pregunta Práctica*: En este tipo de preguntas su objetivo es escribir codigo. Es importante que cada linea de codigo que se escriba esta acompañada de comentarios que muestren su entendimiento del codigo que escribe.\n",
        "\n",
        "**Nota Importante**:  *Asuma lo necesario*\n",
        "\n",
        "### ¿Como entregar esta actividad?\n",
        "\n",
        "Cuando haya terminado de responder todas las preguntas usted debera seguir los siguientes pasos:\n",
        "\n",
        "1. Descargar el cuaderno de Jupyter con sus respuestas. Para hacer esto vaya a `File -> Download -> Dowload .ipynb`\n",
        "2. Copiar el link del cuaderno de Jupyter al formulario disponible en Microsoft Form. Aqui esta el [link](https://forms.microsoft.com/r/WZwjAyfuuq) del formulario\n",
        "\n",
        "### Fechas Límites\n",
        "\n",
        "Esta actividad debe ser entregada a mas tardar el dia Viernes 7 de Octubre a las 11:00 AM. Recuerde que no se aceptaran excusas como falta de fluido eléctrico, computadores dañados, y otros inconvenientes facilmente previsibles que pueden ser mitigados si se planea entregar el trabajo con anticipacion. \n",
        "\n",
        "### Criterios de éxito\n",
        "\n",
        "Para usted ser exitoso en este trabajo debe:\n",
        "\n",
        "1. Leer cuidadosamente\n",
        "2. Responder lo que se le pregunta y responder en el lugar designado\n",
        "3. Seguir cuidadosamente las instrucciones para entregar la actividad en el medio y tiempo establecido\n",
        "4. Elaborar sus respuestas teóricas usando buena gramatica y ortografía. Para esto usted puede ayudarse de un editor como Word y copiar y pegar la respuesta aquí.\n",
        "5. Escribir comentarios apropiados cuando sea el momento de escribir líneas de código.\n",
        "6. Aunque cada pregunta tiene igual valor el examen sera evaluado en conjunto dada la forma como esta estructurado. Esto quiere decir que en muchos casos no es posible responder una pregunta si no se han respondido las anteriores.\n",
        "7. Si no se agregan comentarios al codigo escrito la respuesta no se considera valida. Su puntuacion es 0.0.\n",
        "8. Si se sobrepasa el limite de caracteres para responder la puntuacion de dicha respuesta es 0.0.\n",
        "9. Si la respuesta no responde la pregunta la puntuacion de la respuesta es 0.0\n",
        "\n",
        "#### Recuerden que esta actividad es el **20% de la nota definitiva**\n",
        "\n",
        "### Consideraciones Eticas\n",
        "\n",
        "En este curso no se tolerará el plagio. Sin excepción, en caso de presentarse esta situación, a los estudiantes involucrados se les iniciará proceso de investigación, y se actuará en conformidad con el Reglamento de Estudiantes de la Universidad del Norte. El plagio incluye: usar contenidos sin la debida referencia, de manera literal o con mínimos cambios que no alteren el espíritu del texto/código; adquirir con o sin intención, trabajos de terceros y presentarlos parcial o totalmente como propios; presentar trabajos en grupo donde alguno de los integrantes no trabajó o donde no se hubo trabajo en equipo demostrable; entre otras situaciones definidas en el manual de fraude académico de la Universidad del Norte:\n",
        "\n",
        "(https://guayacan.uninorte.edu.co/normatividad_interna/upload/File/Guia_Prevencion_Fraude%20estudiantes(5).pdf )."
      ]
    },
    {
      "cell_type": "markdown",
      "metadata": {
        "id": "vzuhewTv5qiY"
      },
      "source": [
        "# Descripcion de los datos\n",
        "\n",
        "En esta actividad, de manera individual, trabajaremos sobre la base de datos de los accidentes registrados en la calle 30 de Barranquilla, Colombia. La fuente de datos reposa en [Datos Abiertos](https://www.datos.gov.co/) \n",
        "\n",
        "De manera especifica pueden consultar: [Accidentes de Tránsito Barranquilla Calle 30](https://www.datos.gov.co/Transporte/accidentes-calle-30-2015-2019/sefb-a755)"
      ]
    },
    {
      "cell_type": "markdown",
      "metadata": {
        "id": "-90zLfj-8bnF"
      },
      "source": [
        "Para nuestro análisis, procedemos a cargar las librerías de Python (**Por ejecutar favor TODAS las celdas de código**)."
      ]
    },
    {
      "cell_type": "code",
      "metadata": {
        "id": "f6q5Iob77g2P"
      },
      "source": [
        "import pandas as pd"
      ],
      "execution_count": null,
      "outputs": []
    },
    {
      "cell_type": "markdown",
      "metadata": {
        "id": "ZYf9ZNeY7d26"
      },
      "source": [
        "Creamos el `DataFrame` con la base de datos alojada en el servidor de Datos Abiertos:"
      ]
    },
    {
      "cell_type": "code",
      "metadata": {
        "id": "Dk3VYRf34kBk"
      },
      "source": [
        "df_trans = pd.read_csv('https://www.datos.gov.co/api/views/yb9r-2dsi/rows.csv?accessType=DOWNLOAD');"
      ],
      "execution_count": null,
      "outputs": []
    },
    {
      "cell_type": "markdown",
      "source": [
        "# Sección de Preguntas"
      ],
      "metadata": {
        "id": "eNuku7p85i01"
      }
    },
    {
      "cell_type": "markdown",
      "source": [
        "### Pregunta 1:\n",
        "\n",
        "*Pregunta Práctica*\n",
        "\n",
        "Los seis primeros registros del DataFrame `df_trans` son"
      ],
      "metadata": {
        "id": "r8pjKfEE1whd"
      }
    },
    {
      "cell_type": "markdown",
      "source": [
        "**RESPUESTA**"
      ],
      "metadata": {
        "id": "02T0TXOk113n"
      }
    },
    {
      "cell_type": "code",
      "source": [],
      "metadata": {
        "id": "YsP3RNCu16nW"
      },
      "execution_count": null,
      "outputs": []
    },
    {
      "cell_type": "markdown",
      "metadata": {
        "id": "dYqh6QFzhyU1"
      },
      "source": [
        "### Pregunta 2:\n",
        "\n",
        "*Pregunta Práctica*\n",
        "\n",
        "Los seis últimos registros del DataFrame `df_trans` son\n"
      ]
    },
    {
      "cell_type": "markdown",
      "source": [
        "**RESPUESTA**"
      ],
      "metadata": {
        "id": "nYRDwytJ2V8e"
      }
    },
    {
      "cell_type": "code",
      "source": [],
      "metadata": {
        "id": "TcL0LMI92X7U"
      },
      "execution_count": null,
      "outputs": []
    },
    {
      "cell_type": "markdown",
      "source": [
        "### Pregunta 3:\n",
        "\n",
        "*Pregunta Práctica*\n",
        "\n",
        "Obtenga un resumen de las columnas y los datos que contiene cada columna"
      ],
      "metadata": {
        "id": "I07FtbwK2dIb"
      }
    },
    {
      "cell_type": "markdown",
      "source": [
        "**RESPUESTA**"
      ],
      "metadata": {
        "id": "G1EReS3R26LW"
      }
    },
    {
      "cell_type": "code",
      "source": [],
      "metadata": {
        "id": "cMTSBfdI29un"
      },
      "execution_count": null,
      "outputs": []
    },
    {
      "cell_type": "markdown",
      "source": [
        "### Pregunta 4:\n",
        "\n",
        "*Pregunta Teórica*\n",
        "\n",
        "¿Que conclusiones u observaciones puede sacar del resumen obtenido en el punto anterior?\n",
        "\n",
        "Nota: Escriba su respuesta en 280 caracteres"
      ],
      "metadata": {
        "id": "_G7kSdim3Bd2"
      }
    },
    {
      "cell_type": "markdown",
      "source": [
        "**RESPUESTA**"
      ],
      "metadata": {
        "id": "Q8RU7_GR35RQ"
      }
    },
    {
      "cell_type": "code",
      "source": [],
      "metadata": {
        "id": "-FgBE_QI33Yd"
      },
      "execution_count": null,
      "outputs": []
    },
    {
      "cell_type": "markdown",
      "source": [
        "Guia: Si copias y pegas tu respuesta en medio de las dos comillas y corres la celda puedes verificar por ti mismo si tu respuesta tiene menos de 280 caracteres"
      ],
      "metadata": {
        "id": "sHamD_3Z4JRe"
      }
    },
    {
      "cell_type": "code",
      "source": [
        "respuesta = \"\"\n",
        "print(len(respuesta))"
      ],
      "metadata": {
        "id": "tFWgwOBa3_ke"
      },
      "execution_count": null,
      "outputs": []
    },
    {
      "cell_type": "code",
      "source": [],
      "metadata": {
        "id": "aMRs5O_Z448O"
      },
      "execution_count": null,
      "outputs": []
    },
    {
      "cell_type": "markdown",
      "source": [
        "### Pregunta 5:\n",
        "\n",
        "*Pregunta Práctica*\n",
        "\n",
        "Como puedo saber el tipo de datos de la columna 3"
      ],
      "metadata": {
        "id": "rGfMWzGZ4-La"
      }
    },
    {
      "cell_type": "markdown",
      "source": [
        "**RESPUESTA**"
      ],
      "metadata": {
        "id": "5jd5IGkb5F3y"
      }
    },
    {
      "cell_type": "code",
      "source": [],
      "metadata": {
        "id": "EpxypToS5ESd"
      },
      "execution_count": null,
      "outputs": []
    },
    {
      "cell_type": "markdown",
      "source": [
        "### Pregunta 6:\n",
        "\n",
        "*Pregunta Práctica*\n",
        "\n",
        "Crea un nuevo Dataframe con solo 10 filas y 3 columnas del antiguo Dataframe"
      ],
      "metadata": {
        "id": "5-s-_sbJ5uUc"
      }
    },
    {
      "cell_type": "markdown",
      "source": [
        "**RESPUESTA**"
      ],
      "metadata": {
        "id": "EWiMblFE6CTP"
      }
    },
    {
      "cell_type": "code",
      "source": [],
      "metadata": {
        "id": "IDgoG6YU6BUh"
      },
      "execution_count": null,
      "outputs": []
    },
    {
      "cell_type": "markdown",
      "source": [
        "### Pregunta 7:\n",
        "\n",
        "*Pregunta Práctica*\n",
        "*Esta pregunta tiene tres partes*\n",
        "\n",
        "- Crea una lista con los nombres de 10 amigos del colegio\n",
        "- Agrega la lista que creaste como una columna en el nuevo dataframe de 10 filas y 3 columnas\n",
        "- Despues de esto tu dataframe debe tener 10 filas y 4 columnas."
      ],
      "metadata": {
        "id": "zdQ7n4TX64AQ"
      }
    },
    {
      "cell_type": "markdown",
      "source": [
        "**RESPUESTA**"
      ],
      "metadata": {
        "id": "W_-LOE297Ox_"
      }
    },
    {
      "cell_type": "code",
      "source": [],
      "metadata": {
        "id": "fe6arx8o7QXw"
      },
      "execution_count": null,
      "outputs": []
    },
    {
      "cell_type": "markdown",
      "source": [
        "### Pregunta 8:\n",
        "\n",
        "*Pregunta Práctica*\n",
        "*Esta pregunta tiene tres partes*\n",
        "\n",
        "- Crea una lista de tuplas con los nombres de 10 frutas y la descripcion de si es dulce o acida. Ejemplo `(mango, dulce)`\n",
        "- Agrega la lista que creaste como una columna en el nuevo dataframe de 10 filas y 4 columnas\n",
        "- Despues de esto tu dataframe debe tener 10 filas y 5 columnas."
      ],
      "metadata": {
        "id": "FoY-advn7ncF"
      }
    },
    {
      "cell_type": "markdown",
      "source": [
        "**RESPUESTA**"
      ],
      "metadata": {
        "id": "iXL1meG48PKq"
      }
    },
    {
      "cell_type": "code",
      "source": [],
      "metadata": {
        "id": "5CmBEoYr8OLu"
      },
      "execution_count": null,
      "outputs": []
    },
    {
      "cell_type": "markdown",
      "source": [
        "### Pregunta 9:\n",
        "\n",
        "*Pregunta Teórica*\n",
        "\n",
        "Describa en detalle dos areas de desempeño de la Ingeniería de Sistemas\n",
        "\n",
        "Nota: Su respuesta debe tener maximo 500 palabras"
      ],
      "metadata": {
        "id": "uIbZGT-A8SBL"
      }
    },
    {
      "cell_type": "markdown",
      "source": [
        "**RESPUESTA**"
      ],
      "metadata": {
        "id": "lrBFekgI8hM8"
      }
    },
    {
      "cell_type": "code",
      "source": [],
      "metadata": {
        "id": "gnASX0q38gbz"
      },
      "execution_count": null,
      "outputs": []
    },
    {
      "cell_type": "markdown",
      "source": [
        "Si quiere verificar el número de palabras usadas puede correr este código que aproximara esto. Este código no tiene en cuenta signos de puntuación por lo cual el numero dado sera un poco mas alto que el número real"
      ],
      "metadata": {
        "id": "OuV9tyTB8o-H"
      }
    },
    {
      "cell_type": "code",
      "source": [
        "respuesta = \"\"\n",
        "print(len(respuesta.split()))"
      ],
      "metadata": {
        "id": "JBKEblXi8yLA"
      },
      "execution_count": null,
      "outputs": []
    },
    {
      "cell_type": "markdown",
      "source": [
        "### Pregunta 10:\n",
        "\n",
        "*Pregunta Teórica*\n",
        "\n",
        "Describa en detalle donde se ve usted como Ingeniero de Sistemas una vez se gradúe y como quiere que sea su experiencia en la universidad los próximo 5 años. \n",
        "\n",
        "Nota: Su respuesta debe tener maximo 500 palabras"
      ],
      "metadata": {
        "id": "W2ZEvYDv9Gtw"
      }
    },
    {
      "cell_type": "markdown",
      "source": [
        "**RESPUESTA**"
      ],
      "metadata": {
        "id": "fV0Y9J7K9XbR"
      }
    },
    {
      "cell_type": "code",
      "source": [],
      "metadata": {
        "id": "ZKegD22c85K_"
      },
      "execution_count": null,
      "outputs": []
    }
  ]
}